{
  "nbformat": 4,
  "nbformat_minor": 0,
  "metadata": {
    "kernelspec": {
      "display_name": "Python 3",
      "language": "python",
      "name": "python3"
    },
    "language_info": {
      "codemirror_mode": {
        "name": "ipython",
        "version": 3
      },
      "file_extension": ".py",
      "mimetype": "text/x-python",
      "name": "python",
      "nbconvert_exporter": "python",
      "pygments_lexer": "ipython3",
      "version": "3.7.6"
    },
    "colab": {
      "name": "distribute_lab1.ipynb",
      "provenance": [],
      "include_colab_link": true
    }
  },
  "cells": [
    {
      "cell_type": "markdown",
      "metadata": {
        "id": "view-in-github",
        "colab_type": "text"
      },
      "source": [
        "<a href=\"https://colab.research.google.com/github/setitfree/BasicPython/blob/main/distribute_lab1.ipynb\" target=\"_parent\"><img src=\"https://colab.research.google.com/assets/colab-badge.svg\" alt=\"Open In Colab\"/></a>"
      ]
    },
    {
      "cell_type": "markdown",
      "metadata": {
        "id": "-ipP2QX9Tryu"
      },
      "source": [
        "# Lab 1: Dictionaries and Classes"
      ]
    },
    {
      "cell_type": "markdown",
      "metadata": {
        "id": "v6ryy620Tryz"
      },
      "source": [
        "## EXERCISE 1: Count words in Julius Caesar and make a text based histogram\n",
        "\n",
        "Building on the first lab, using lowercase words, lets make a histogram. Create a dictionary `worddict`, that has the counts of all the words in Caesar."
      ]
    },
    {
      "cell_type": "code",
      "metadata": {
        "id": "G02cMe55Tryz",
        "outputId": "90a88b2a-0b68-4e20-8214-670ca621d276",
        "colab": {
          "base_uri": "https://localhost:8080/"
        }
      },
      "source": [
        "# your code here\n",
        "!wget https://raw.githubusercontent.com/setitfree/BasicPython/main/data/Julius%20Caesar.txt"
      ],
      "execution_count": 1,
      "outputs": [
        {
          "output_type": "stream",
          "text": [
            "--2020-12-20 18:01:14--  https://raw.githubusercontent.com/setitfree/BasicPython/main/data/Julius%20Caesar.txt\n",
            "Resolving raw.githubusercontent.com (raw.githubusercontent.com)... 151.101.0.133, 151.101.64.133, 151.101.128.133, ...\n",
            "Connecting to raw.githubusercontent.com (raw.githubusercontent.com)|151.101.0.133|:443... connected.\n",
            "HTTP request sent, awaiting response... 200 OK\n",
            "Length: 120873 (118K) [text/plain]\n",
            "Saving to: ‘Julius Caesar.txt’\n",
            "\n",
            "Julius Caesar.txt   100%[===================>] 118.04K  --.-KB/s    in 0.008s  \n",
            "\n",
            "2020-12-20 18:01:14 (13.9 MB/s) - ‘Julius Caesar.txt’ saved [120873/120873]\n",
            "\n"
          ],
          "name": "stdout"
        }
      ]
    },
    {
      "cell_type": "markdown",
      "metadata": {
        "id": "cI_8q-V5Tryz"
      },
      "source": [
        "Now here is where the iterative nature of dictionaries can be used to our benefit. We sort the worddict, using the function `worddict.get` to provide the values, which are the counts."
      ]
    },
    {
      "cell_type": "code",
      "metadata": {
        "id": "COf9_tYBUTwO"
      },
      "source": [
        "import string\n",
        "worddict = dict()\n",
        "fd = open(\"Julius Caesar.txt\")\n",
        "\n",
        "for line in fd:\n",
        "  cleaned = line.strip()\n",
        "  split = cleaned.split()\n",
        "  for word in split:\n",
        "    if not word in worddict:\n",
        "      worddict[word] = 1\n",
        "    else:\n",
        "      worddict[word] += 1\n",
        "\n"
      ],
      "execution_count": 7,
      "outputs": []
    },
    {
      "cell_type": "code",
      "metadata": {
        "id": "HOOS6bEATry0"
      },
      "source": [
        "topwords = sorted(worddict, key = worddict.get, reverse=True)"
      ],
      "execution_count": 9,
      "outputs": []
    },
    {
      "cell_type": "code",
      "metadata": {
        "id": "W4c8BG78Try0",
        "outputId": "929e05db-4ab0-4e9a-b07a-3dc33299de9a",
        "colab": {
          "base_uri": "https://localhost:8080/"
        }
      },
      "source": [
        "for word in topwords[:20]:\n",
        "    print(word, worddict[word])"
      ],
      "execution_count": 10,
      "outputs": [
        {
          "output_type": "stream",
          "text": [
            "the 531\n",
            "I 499\n",
            "and 426\n",
            "of 356\n",
            "to 347\n",
            "you 265\n",
            "a 231\n",
            "is 214\n",
            "in 206\n",
            "And 201\n",
            "not 199\n",
            "BRUTUS. 193\n",
            "that 184\n",
            "my 169\n",
            "his 150\n",
            "CASSIUS. 138\n",
            "with 137\n",
            "he 135\n",
            "be 129\n",
            "have 125\n"
          ],
          "name": "stdout"
        }
      ]
    },
    {
      "cell_type": "markdown",
      "metadata": {
        "id": "Fge-doB6Try0"
      },
      "source": [
        "You can even make a hacky histogram for this by creating a '#' for every 10 occurences"
      ]
    },
    {
      "cell_type": "code",
      "metadata": {
        "id": "1XVfyWIbTry0",
        "outputId": "dbbbbfac-a9a7-4922-beba-28e47a32b51b",
        "colab": {
          "base_uri": "https://localhost:8080/"
        }
      },
      "source": [
        "for word in topwords[:20]:\n",
        "    print(word+(20 - len(word))*' ', (worddict[word]//10)*'*')"
      ],
      "execution_count": 11,
      "outputs": [
        {
          "output_type": "stream",
          "text": [
            "the                  *****************************************************\n",
            "I                    *************************************************\n",
            "and                  ******************************************\n",
            "of                   ***********************************\n",
            "to                   **********************************\n",
            "you                  **************************\n",
            "a                    ***********************\n",
            "is                   *********************\n",
            "in                   ********************\n",
            "And                  ********************\n",
            "not                  *******************\n",
            "BRUTUS.              *******************\n",
            "that                 ******************\n",
            "my                   ****************\n",
            "his                  ***************\n",
            "CASSIUS.             *************\n",
            "with                 *************\n",
            "he                   *************\n",
            "be                   ************\n",
            "have                 ************\n"
          ],
          "name": "stdout"
        }
      ]
    },
    {
      "cell_type": "markdown",
      "metadata": {
        "id": "Qe8VKX0zTry1"
      },
      "source": [
        "## EXERCISE 2: Simulate a Bank Account"
      ]
    },
    {
      "cell_type": "code",
      "metadata": {
        "id": "8MkmkpO-Try1"
      },
      "source": [
        "class BankAccount:\n",
        "    def __init__(self, balance):\n",
        "        self.balance = balance\n",
        "        \n",
        "    def withdraw(self, amount):\n",
        "        self.balance = self.balance - amount"
      ],
      "execution_count": null,
      "outputs": []
    },
    {
      "cell_type": "code",
      "metadata": {
        "id": "iCOWKcpdTry1"
      },
      "source": [
        "myaccount = BankAccount(100)\n",
        "print(myaccount.balance)\n",
        "myaccount.withdraw(20)\n",
        "myaccount.balance"
      ],
      "execution_count": null,
      "outputs": []
    },
    {
      "cell_type": "markdown",
      "metadata": {
        "id": "qlqJC8HITry1"
      },
      "source": [
        "Python supports inheritance. Indeed, in python, all classes inherit from object, which means that they all get some attributes and methods from object.\n",
        "\n",
        "What is inheritance, more precisely? In inheritance an object is based on another object. When inheritance is implemented, the methods and attributes that were defined in the base class will also be present in the inherited class. This is generally done to abstract away similar code in multiple classes. The abstracted code will reside in the base class and the previous classes will now inherit from the base class.\n",
        "\n",
        "Let's look at an example of inheritance. In the following example, Rocket is the base class and MarsRover is the inherited class. Notice the string interpolation in the formatting as well."
      ]
    },
    {
      "cell_type": "code",
      "metadata": {
        "id": "WOZ2JPbATry2"
      },
      "source": [
        "class Rocket:\n",
        "    def __init__(self, name, distance):\n",
        "        self.name = name\n",
        "        self.distance = distance\n",
        "\n",
        "    def launch(self):\n",
        "        return \"%s has reached %s\" % (self.name, self.distance)\n",
        "    \n",
        "    def get_maker(self):\n",
        "        return \"%s Launched\" % self.name\n",
        "\n",
        "\n",
        "class MarsRover(Rocket): # inheriting from the base class\n",
        "    def __init__(self, name, distance, maker):\n",
        "        Rocket.__init__(self, name, distance)\n",
        "        self.maker = maker\n",
        "\n",
        "    def get_maker(self):\n",
        "        return \"%s Launched by %s\" % (self.name, self.maker)"
      ],
      "execution_count": null,
      "outputs": []
    },
    {
      "cell_type": "code",
      "metadata": {
        "id": "9JpSy9LhTry2"
      },
      "source": [
        "x = Rocket(\"Simple rocket\", \"till stratosphere\")\n",
        "y = MarsRover(\"Mangalyaan\", \"till Mars\", \"ISRO\")\n",
        "print(x.launch())\n",
        "print(y.launch()) # dispatches to Ricket's launch\n",
        "print(x.get_maker())\n",
        "print(y.get_maker())"
      ],
      "execution_count": null,
      "outputs": []
    },
    {
      "cell_type": "markdown",
      "metadata": {
        "id": "u_aO7d-9Try2"
      },
      "source": [
        "`launch` is not defined by the derived class `MarsRover` so the `launch` for instance `y` is used from `Rocket`. On the other hand, `MarsRover` defines a new `get_maker` so that overrides the one from `Rocket`. Thus inheritance can be used to share functionality when needed and diversify when not."
      ]
    },
    {
      "cell_type": "markdown",
      "metadata": {
        "id": "EWYxl88ITry2"
      },
      "source": [
        "Define an error checking bank account `ECBankAccount` which inherits from `BankAccount` but will not allow overdraws. If there is an overdraw raise a `ValueError` with a message \"Withdrawal Not Allowed\": read up on this. Create two accounts one regular and one he derived class instance and wihdraw more than the balance from both."
      ]
    },
    {
      "cell_type": "code",
      "metadata": {
        "id": "oSPjBxsvTry2"
      },
      "source": [
        "# youe code here\n",
        "class ECBankAccount:\n",
        "    def __init__(self, balance):\n",
        "        self.balance = balance\n",
        "        \n",
        "    def withdraw(self, amount):\n",
        "        check = self.balance - amount\n",
        "        if check >=0:\n",
        "            self.balance -= amount\n",
        "        else:\n",
        "            raise ValueError(\"Withdrawal Not Allowed\")"
      ],
      "execution_count": null,
      "outputs": []
    },
    {
      "cell_type": "code",
      "metadata": {
        "id": "y7Rgrl9aTry3"
      },
      "source": [
        "x = BankAccount(100)\n",
        "x.withdraw(120)\n",
        "x.balance"
      ],
      "execution_count": null,
      "outputs": []
    },
    {
      "cell_type": "code",
      "metadata": {
        "id": "jdESVKNlTry3"
      },
      "source": [
        "y = ECBankAccount(100)\n",
        "y.withdraw(120)"
      ],
      "execution_count": null,
      "outputs": []
    },
    {
      "cell_type": "code",
      "metadata": {
        "id": "6a-fUiIhTry3"
      },
      "source": [
        "y.balance"
      ],
      "execution_count": null,
      "outputs": []
    }
  ]
}