{
  "nbformat": 4,
  "nbformat_minor": 0,
  "metadata": {
    "kernelspec": {
      "display_name": "Python 3",
      "language": "python",
      "name": "python3"
    },
    "language_info": {
      "codemirror_mode": {
        "name": "ipython",
        "version": 3
      },
      "file_extension": ".py",
      "mimetype": "text/x-python",
      "name": "python",
      "nbconvert_exporter": "python",
      "pygments_lexer": "ipython3",
      "version": "3.7.6"
    },
    "colab": {
      "name": "distribute_lab0.ipynb",
      "provenance": []
    }
  },
  "cells": [
    {
      "cell_type": "markdown",
      "metadata": {
        "id": "fEE1hQT8rd3E"
      },
      "source": [
        "# Lab 0: Basic Python, Functions, Lists, Strings, and Files"
      ]
    },
    {
      "cell_type": "markdown",
      "metadata": {
        "id": "NrzmeT7EcAZB"
      },
      "source": [
        "## EXERCISE 1: A Simple Calculator\n",
        "\n",
        "Here is a fun little calculator which exercises what you have learnt so far.\n",
        "\n",
        "It has only 4 operations - Addition, Subtraction, Multiplication and Divison\n",
        "\n",
        "Notice the use of no-operation `pass`. It allows us to incrementally code by doing nothing to start, and put in functionality over time."
      ]
    },
    {
      "cell_type": "code",
      "metadata": {
        "id": "2Lf4a1E_rd3N"
      },
      "source": [
        "print(\"Select operation\\n\")\n",
        "print(\"1.Addition\")\n",
        "print(\"2.Subtraction\")\n",
        "print(\"3.Multiplication\")\n",
        "print(\"4.Division\")\n",
        "\n",
        "# Something NEW: Take input from the user \n",
        "choice = input(\"\\nEnter choice(1/2/3/4): \")\n",
        "\n",
        "# We convert the input to a floating-pount(or real) number.\n",
        "\n",
        "num1 = float(input(\"\\nEnter first number: \"))\n",
        "num2 = float(input(\"\\nEnter second number: \"))\n",
        "\n",
        "if choice == '1':\n",
        "    # your code here\n"
      ],
      "execution_count": null,
      "outputs": []
    },
    {
      "cell_type": "markdown",
      "metadata": {
        "id": "HEcHc7Sgrd3O"
      },
      "source": [
        "## EXERCISE 2: List like objects and functions on them\n",
        "\n",
        "Materialize lists using \n",
        "\n",
        "1. `range(50)`\n",
        "2. The function application `enumerate(list of alphabets)`\n",
        "3. Write your own enumerate function for a list using the function `zip`."
      ]
    },
    {
      "cell_type": "code",
      "metadata": {
        "id": "YLRrXpjBrd3P",
        "outputId": "7d5e931c-0c5c-463e-aeda-4ad34d0da01f",
        "colab": {
          "base_uri": "https://localhost:8080/"
        }
      },
      "source": [
        "# your code here\n",
        "list(range(50))"
      ],
      "execution_count": 1,
      "outputs": [
        {
          "output_type": "execute_result",
          "data": {
            "text/plain": [
              "[0,\n",
              " 1,\n",
              " 2,\n",
              " 3,\n",
              " 4,\n",
              " 5,\n",
              " 6,\n",
              " 7,\n",
              " 8,\n",
              " 9,\n",
              " 10,\n",
              " 11,\n",
              " 12,\n",
              " 13,\n",
              " 14,\n",
              " 15,\n",
              " 16,\n",
              " 17,\n",
              " 18,\n",
              " 19,\n",
              " 20,\n",
              " 21,\n",
              " 22,\n",
              " 23,\n",
              " 24,\n",
              " 25,\n",
              " 26,\n",
              " 27,\n",
              " 28,\n",
              " 29,\n",
              " 30,\n",
              " 31,\n",
              " 32,\n",
              " 33,\n",
              " 34,\n",
              " 35,\n",
              " 36,\n",
              " 37,\n",
              " 38,\n",
              " 39,\n",
              " 40,\n",
              " 41,\n",
              " 42,\n",
              " 43,\n",
              " 44,\n",
              " 45,\n",
              " 46,\n",
              " 47,\n",
              " 48,\n",
              " 49]"
            ]
          },
          "metadata": {
            "tags": []
          },
          "execution_count": 1
        }
      ]
    },
    {
      "cell_type": "code",
      "metadata": {
        "id": "BBGtPLtlrd3P",
        "outputId": "e79a2294-8b08-4140-f3aa-4d34b81f7e3c",
        "colab": {
          "base_uri": "https://localhost:8080/"
        }
      },
      "source": [
        "# your code here\n",
        "import string\n",
        "list(enumerate(string.ascii_uppercase))\n"
      ],
      "execution_count": 9,
      "outputs": [
        {
          "output_type": "execute_result",
          "data": {
            "text/plain": [
              "[(0, 'A'),\n",
              " (1, 'B'),\n",
              " (2, 'C'),\n",
              " (3, 'D'),\n",
              " (4, 'E'),\n",
              " (5, 'F'),\n",
              " (6, 'G'),\n",
              " (7, 'H'),\n",
              " (8, 'I'),\n",
              " (9, 'J'),\n",
              " (10, 'K'),\n",
              " (11, 'L'),\n",
              " (12, 'M'),\n",
              " (13, 'N'),\n",
              " (14, 'O'),\n",
              " (15, 'P'),\n",
              " (16, 'Q'),\n",
              " (17, 'R'),\n",
              " (18, 'S'),\n",
              " (19, 'T'),\n",
              " (20, 'U'),\n",
              " (21, 'V'),\n",
              " (22, 'W'),\n",
              " (23, 'X'),\n",
              " (24, 'Y'),\n",
              " (25, 'Z')]"
            ]
          },
          "metadata": {
            "tags": []
          },
          "execution_count": 9
        }
      ]
    },
    {
      "cell_type": "code",
      "metadata": {
        "id": "YhiQtNfYrd3P"
      },
      "source": [
        "# your code here\n"
      ],
      "execution_count": null,
      "outputs": []
    },
    {
      "cell_type": "markdown",
      "metadata": {
        "id": "rUe6oWVsvj12"
      },
      "source": [
        "## EXERCISE 3: Count the special characters\n",
        "\n",
        "Consider the string \"HelloWorld,123,ThisIsUniv.Ai\" (not including the quotes). Find the number of uppercase, lowercase, special character and numerical characters.\n"
      ]
    },
    {
      "cell_type": "code",
      "metadata": {
        "id": "hV4TBCkR5Bx7",
        "outputId": "136c04eb-5313-4e60-dde1-1f0aebab9af4",
        "colab": {
          "base_uri": "https://localhost:8080/"
        }
      },
      "source": [
        "import string\n",
        "my_string = \"HelloWorld,123,ThisIsUniv.Ai\"\n",
        "\n",
        "def convert(what, inpstr):\n",
        "  counter = 0\n",
        "  for c in inpstr:\n",
        "    if c in what:\n",
        "      counter += 1\n",
        "  return counter\n",
        "convert(string.ascii_uppercase, my_string), convert(string.ascii_lowercase, my_string)\n",
        " \n"
      ],
      "execution_count": 47,
      "outputs": [
        {
          "output_type": "execute_result",
          "data": {
            "text/plain": [
              "(6, 16)"
            ]
          },
          "metadata": {
            "tags": []
          },
          "execution_count": 47
        }
      ]
    },
    {
      "cell_type": "code",
      "metadata": {
        "id": "ZBnJ-dYlrd3Q",
        "outputId": "d279b491-82bd-4ea5-d025-336306498957",
        "colab": {
          "base_uri": "https://localhost:8080/"
        }
      },
      "source": [
        "import string\n",
        "my_string = \"HelloWorld,123,ThisIsUniv.Ai\"\n",
        "# your code here\n",
        "\n",
        "def convert(inpstr):\n",
        "  c1 = 0\n",
        "  c2 = 0\n",
        "  c3 = 0\n",
        "  for s in inpstr:\n",
        "    if(s.isupper()):\n",
        "      c1 += 1\n",
        "    elif(s.islower()):\n",
        "      c2 += 1\n",
        "    elif(s.isdigit()):\n",
        "      c3 += 1\n",
        "  return c1, c2, c3\n",
        "\n",
        "convert(my_string)\n"
      ],
      "execution_count": 36,
      "outputs": [
        {
          "output_type": "execute_result",
          "data": {
            "text/plain": [
              "(6, 16, 3)"
            ]
          },
          "metadata": {
            "tags": []
          },
          "execution_count": 36
        }
      ]
    },
    {
      "cell_type": "code",
      "metadata": {
        "id": "se7PkZd3rd3Q"
      },
      "source": [
        "counter(string.ascii_uppercase, my_string),counter(string.ascii_lowercase, my_string),counter(string.digits, my_string),counter(string.punctuation, my_string)"
      ],
      "execution_count": null,
      "outputs": []
    },
    {
      "cell_type": "markdown",
      "metadata": {
        "id": "hF34t-5Grd3R"
      },
      "source": [
        "## EXERCISE 4: Read a file and parse words from it\n",
        "\n",
        "Read Julius Caesar. Get each line. Remove newline characters from each line. Split the line to get the words from the line. Lowercase them. Print the first 1000 words, lowercased."
      ]
    },
    {
      "cell_type": "code",
      "metadata": {
        "id": "ZXrF0RMBrd3R",
        "outputId": "0c62a5ae-b0e7-43b0-cb7d-2b91d13908fe",
        "colab": {
          "base_uri": "https://localhost:8080/"
        }
      },
      "source": [
        "# your code here\n",
        "!wget https://raw.githubusercontent.com/setitfree/BasicPython/main/data/Julius%20Caesar.txt"
      ],
      "execution_count": 48,
      "outputs": [
        {
          "output_type": "stream",
          "text": [
            "--2020-12-20 17:29:49--  https://raw.githubusercontent.com/setitfree/BasicPython/main/data/Julius%20Caesar.txt\n",
            "Resolving raw.githubusercontent.com (raw.githubusercontent.com)... 151.101.0.133, 151.101.64.133, 151.101.128.133, ...\n",
            "Connecting to raw.githubusercontent.com (raw.githubusercontent.com)|151.101.0.133|:443... connected.\n",
            "HTTP request sent, awaiting response... 200 OK\n",
            "Length: 120873 (118K) [text/plain]\n",
            "Saving to: ‘Julius Caesar.txt’\n",
            "\n",
            "\rJulius Caesar.txt     0%[                    ]       0  --.-KB/s               \rJulius Caesar.txt   100%[===================>] 118.04K  --.-KB/s    in 0.02s   \n",
            "\n",
            "2020-12-20 17:29:49 (4.63 MB/s) - ‘Julius Caesar.txt’ saved [120873/120873]\n",
            "\n"
          ],
          "name": "stdout"
        }
      ]
    },
    {
      "cell_type": "code",
      "metadata": {
        "id": "eihC6TV5rd3R",
        "outputId": "7b463284-0b7e-4c93-f017-44e9030d1931",
        "colab": {
          "base_uri": "https://localhost:8080/"
        }
      },
      "source": [
        "import string\n",
        "wordlist = []\n",
        "fd = open(\"Julius Caesar.txt\")\n",
        "\n",
        "for line in fd:\n",
        "  cleaned = line.strip()\n",
        "  split = cleaned.split()\n",
        "  wordlist += split\n",
        "\n",
        "  \n",
        "print(wordlist[:1000])"
      ],
      "execution_count": 77,
      "outputs": [
        {
          "output_type": "stream",
          "text": [
            "['THE', 'TRAGEDY', 'OF', 'JULIUS', 'CAESAR', 'by', 'William', 'Shakespeare', 'Contents', 'ACT', 'I', 'Scene', 'I.', 'Rome.', 'A', 'street.', 'Scene', 'II.', 'The', 'same.', 'A', 'public', 'place.', 'Scene', 'III.', 'The', 'same.', 'A', 'street.', 'ACT', 'II', 'Scene', 'I.', 'Rome.', 'Brutusâ€™', 'orchard.', 'Scene', 'II.', 'A', 'room', 'in', 'Caesarâ€™s', 'palace.', 'Scene', 'III.', 'A', 'street', 'near', 'the', 'Capitol.', 'Scene', 'IV.', 'Another', 'part', 'of', 'the', 'same', 'street,', 'before', 'the', 'house', 'of', 'Brutus.', 'ACT', 'III', 'Scene', 'I.', 'Rome.', 'Before', 'the', 'Capitol;', 'the', 'Senate', 'sitting.', 'Scene', 'II.', 'The', 'same.', 'The', 'Forum.', 'Scene', 'III.', 'The', 'same.', 'A', 'street.', 'ACT', 'IV', 'Scene', 'I.', 'A', 'room', 'in', 'Antonyâ€™s', 'house.', 'Scene', 'II.', 'Before', 'Brutusâ€™', 'tent,', 'in', 'the', 'camp', 'near', 'Sardis.', 'Scene', 'III.', 'Within', 'the', 'tent', 'of', 'Brutus.', 'ACT', 'V', 'Scene', 'I.', 'The', 'plains', 'of', 'Philippi.', 'Scene', 'II.', 'The', 'same.', 'The', 'field', 'of', 'battle.', 'Scene', 'III.', 'Another', 'part', 'of', 'the', 'field.', 'Scene', 'IV.', 'Another', 'part', 'of', 'the', 'field.', 'Scene', 'V.', 'Another', 'part', 'of', 'the', 'field.', 'Dramatis', 'PersonÃ¦', 'JULIUS', 'CAESAR', 'OCTAVIUS', 'CAESAR,', 'Triumvir', 'after', 'his', 'death.', 'MARCUS', 'ANTONIUS,', 'â€\\x9d', 'â€\\x9d', 'â€\\x9d', 'M.', 'AEMILIUS', 'LEPIDUS,', 'â€\\x9d', 'â€\\x9d', 'â€\\x9d', 'CICERO,', 'PUBLIUS,', 'POPILIUS', 'LENA,', 'Senators.', 'MARCUS', 'BRUTUS,', 'Conspirator', 'against', 'Caesar.', 'CASSIUS,', 'â€\\x9d', 'â€\\x9d', 'â€\\x9d', 'CASCA,', 'â€\\x9d', 'â€\\x9d', 'â€\\x9d', 'TREBONIUS,', 'â€\\x9d', 'â€\\x9d', 'â€\\x9d', 'LIGARIUS,â€\\x9d', 'â€\\x9d', 'â€\\x9d', 'DECIUS', 'BRUTUS,', 'â€\\x9d', 'â€\\x9d', 'â€\\x9d', 'METELLUS', 'CIMBER,', 'â€\\x9d', 'â€\\x9d', 'â€\\x9d', 'CINNA,', 'â€\\x9d', 'â€\\x9d', 'â€\\x9d', 'FLAVIUS,', 'tribune', 'MARULLUS,', 'tribune', 'ARTEMIDORUS,', 'a', 'Sophist', 'of', 'Cnidos.', 'A', 'Soothsayer', 'CINNA,', 'a', 'poet.', 'Another', 'Poet.', 'LUCILIUS,', 'TITINIUS,', 'MESSALA,', 'young', 'CATO,', 'and', 'VOLUMNIUS,', 'Friends', 'to', 'Brutus', 'and', 'Cassius.', 'VARRO,', 'CLITUS,', 'CLAUDIUS,', 'STRATO,', 'LUCIUS,', 'DARDANIUS,', 'Servants', 'to', 'Brutus', 'PINDARUS,', 'Servant', 'to', 'Cassius', 'CALPHURNIA,', 'wife', 'to', 'Caesar', 'PORTIA,', 'wife', 'to', 'Brutus', 'The', 'Ghost', 'of', 'Caesar', 'Senators,', 'Citizens,', 'Soldiers,', 'Commoners,', 'Messengers,', 'and', 'Servants.', 'SCENE:', 'Rome,', 'the', 'conspiratorsâ€™', 'camp', 'near', 'Sardis,', 'and', 'the', 'plains', 'of', 'Philippi.', 'ACT', 'I', 'SCENE', 'I.', 'Rome.', 'A', 'street.', 'Enter', 'Flavius,', 'Marullus', 'and', 'a', 'throng', 'of', 'Citizens.', 'FLAVIUS.', 'Hence!', 'home,', 'you', 'idle', 'creatures,', 'get', 'you', 'home.', 'Is', 'this', 'a', 'holiday?', 'What,', 'know', 'you', 'not,', 'Being', 'mechanical,', 'you', 'ought', 'not', 'walk', 'Upon', 'a', 'labouring', 'day', 'without', 'the', 'sign', 'Of', 'your', 'profession?', 'Speak,', 'what', 'trade', 'art', 'thou?', 'CARPENTER.', 'Why,', 'sir,', 'a', 'carpenter.', 'MARULLUS.', 'Where', 'is', 'thy', 'leather', 'apron', 'and', 'thy', 'rule?', 'What', 'dost', 'thou', 'with', 'thy', 'best', 'apparel', 'on?', 'You,', 'sir,', 'what', 'trade', 'are', 'you?', 'COBBLER.', 'Truly,', 'sir,', 'in', 'respect', 'of', 'a', 'fine', 'workman,', 'I', 'am', 'but,', 'as', 'you', 'would', 'say,', 'a', 'cobbler.', 'MARULLUS.', 'But', 'what', 'trade', 'art', 'thou?', 'Answer', 'me', 'directly.', 'COBBLER.', 'A', 'trade,', 'sir,', 'that', 'I', 'hope', 'I', 'may', 'use', 'with', 'a', 'safe', 'conscience,', 'which', 'is', 'indeed,', 'sir,', 'a', 'mender', 'of', 'bad', 'soles.', 'MARULLUS.', 'What', 'trade,', 'thou', 'knave?', 'Thou', 'naughty', 'knave,', 'what', 'trade?', 'COBBLER.', 'Nay,', 'I', 'beseech', 'you,', 'sir,', 'be', 'not', 'out', 'with', 'me;', 'yet,', 'if', 'you', 'be', 'out,', 'sir,', 'I', 'can', 'mend', 'you.', 'MARULLUS.', 'What', 'meanâ€™st', 'thou', 'by', 'that?', 'Mend', 'me,', 'thou', 'saucy', 'fellow!', 'COBBLER.', 'Why,', 'sir,', 'cobble', 'you.', 'FLAVIUS.', 'Thou', 'art', 'a', 'cobbler,', 'art', 'thou?', 'COBBLER.', 'Truly,', 'sir,', 'all', 'that', 'I', 'live', 'by', 'is', 'with', 'the', 'awl;', 'I', 'meddle', 'with', 'no', 'tradesmanâ€™s', 'matters,', 'nor', 'womenâ€™s', 'matters,', 'but', 'withal', 'I', 'am', 'indeed,', 'sir,', 'a', 'surgeon', 'to', 'old', 'shoes:', 'when', 'they', 'are', 'in', 'great', 'danger,', 'I', 'recover', 'them.', 'As', 'proper', 'men', 'as', 'ever', 'trod', 'upon', 'neatâ€™s', 'leather', 'have', 'gone', 'upon', 'my', 'handiwork.', 'FLAVIUS.', 'But', 'wherefore', 'art', 'not', 'in', 'thy', 'shop', 'today?', 'Why', 'dost', 'thou', 'lead', 'these', 'men', 'about', 'the', 'streets?', 'COBBLER.', 'Truly,', 'sir,', 'to', 'wear', 'out', 'their', 'shoes,', 'to', 'get', 'myself', 'into', 'more', 'work.', 'But', 'indeed,', 'sir,', 'we', 'make', 'holiday', 'to', 'see', 'Caesar,', 'and', 'to', 'rejoice', 'in', 'his', 'triumph.', 'MARULLUS.', 'Wherefore', 'rejoice?', 'What', 'conquest', 'brings', 'he', 'home?', 'What', 'tributaries', 'follow', 'him', 'to', 'Rome,', 'To', 'grace', 'in', 'captive', 'bonds', 'his', 'chariot', 'wheels?', 'You', 'blocks,', 'you', 'stones,', 'you', 'worse', 'than', 'senseless', 'things!', 'O', 'you', 'hard', 'hearts,', 'you', 'cruel', 'men', 'of', 'Rome,', 'Knew', 'you', 'not', 'Pompey?', 'Many', 'a', 'time', 'and', 'oft', 'Have', 'you', 'climbâ€™d', 'up', 'to', 'walls', 'and', 'battlements,', 'To', 'towers', 'and', 'windows,', 'yea,', 'to', 'chimney', 'tops,', 'Your', 'infants', 'in', 'your', 'arms,', 'and', 'there', 'have', 'sat', 'The', 'livelong', 'day', 'with', 'patient', 'expectation,', 'To', 'see', 'great', 'Pompey', 'pass', 'the', 'streets', 'of', 'Rome.', 'And', 'when', 'you', 'saw', 'his', 'chariot', 'but', 'appear,', 'Have', 'you', 'not', 'made', 'an', 'universal', 'shout,', 'That', 'Tiber', 'trembled', 'underneath', 'her', 'banks', 'To', 'hear', 'the', 'replication', 'of', 'your', 'sounds', 'Made', 'in', 'her', 'concave', 'shores?', 'And', 'do', 'you', 'now', 'put', 'on', 'your', 'best', 'attire?', 'And', 'do', 'you', 'now', 'cull', 'out', 'a', 'holiday?', 'And', 'do', 'you', 'now', 'strew', 'flowers', 'in', 'his', 'way,', 'That', 'comes', 'in', 'triumph', 'over', 'Pompeyâ€™s', 'blood?', 'Be', 'gone!', 'Run', 'to', 'your', 'houses,', 'fall', 'upon', 'your', 'knees,', 'Pray', 'to', 'the', 'gods', 'to', 'intermit', 'the', 'plague', 'That', 'needs', 'must', 'light', 'on', 'this', 'ingratitude.', 'FLAVIUS.', 'Go,', 'go,', 'good', 'countrymen,', 'and,', 'for', 'this', 'fault', 'Assemble', 'all', 'the', 'poor', 'men', 'of', 'your', 'sort,', 'Draw', 'them', 'to', 'Tiber', 'banks,', 'and', 'weep', 'your', 'tears', 'Into', 'the', 'channel,', 'till', 'the', 'lowest', 'stream', 'Do', 'kiss', 'the', 'most', 'exalted', 'shores', 'of', 'all.', '[_Exeunt', 'Citizens._]', 'See', 'whether', 'their', 'basest', 'metal', 'be', 'not', 'movâ€™d;', 'They', 'vanish', 'tongue-tied', 'in', 'their', 'guiltiness.', 'Go', 'you', 'down', 'that', 'way', 'towards', 'the', 'Capitol;', 'This', 'way', 'will', 'I.', 'Disrobe', 'the', 'images,', 'If', 'you', 'do', 'find', 'them', 'deckâ€™d', 'with', 'ceremonies.', 'MARULLUS.', 'May', 'we', 'do', 'so?', 'You', 'know', 'it', 'is', 'the', 'feast', 'of', 'Lupercal.', 'FLAVIUS.', 'It', 'is', 'no', 'matter;', 'let', 'no', 'images', 'Be', 'hung', 'with', 'Caesarâ€™s', 'trophies.', 'Iâ€™ll', 'about', 'And', 'drive', 'away', 'the', 'vulgar', 'from', 'the', 'streets;', 'So', 'do', 'you', 'too,', 'where', 'you', 'perceive', 'them', 'thick.', 'These', 'growing', 'feathers', 'pluckâ€™d', 'from', 'Caesarâ€™s', 'wing', 'Will', 'make', 'him', 'fly', 'an', 'ordinary', 'pitch,', 'Who', 'else', 'would', 'soar', 'above', 'the', 'view', 'of', 'men,', 'And', 'keep', 'us', 'all', 'in', 'servile', 'fearfulness.', '[_Exeunt._]', 'SCENE', 'II.', 'The', 'same.', 'A', 'public', 'place.', 'Enter,', 'in', 'procession,', 'with', 'music,', 'Caesar;', 'Antony,', 'for', 'the', 'course;', 'Calphurnia,', 'Portia,', 'Decius,', 'Cicero,', 'Brutus,', 'Cassius', 'and', 'Casca;', 'a', 'great', 'crowd', 'following,', 'among', 'them', 'a', 'Soothsayer.', 'CAESAR.', 'Calphurnia.', 'CASCA.', 'Peace,', 'ho!', 'Caesar', 'speaks.', '[_Music', 'ceases._]', 'CAESAR.', 'Calphurnia.', 'CALPHURNIA.', 'Here,', 'my', 'lord.', 'CAESAR.', 'Stand', 'you', 'directly', 'in', 'Antoniusâ€™', 'way,', 'When', 'he', 'doth', 'run', 'his', 'course.', 'Antonius.', 'ANTONY.', 'Caesar,', 'my', 'lord?', 'CAESAR.', 'Forget', 'not', 'in', 'your', 'speed,', 'Antonius,', 'To', 'touch', 'Calphurnia;', 'for', 'our', 'elders', 'say,', 'The', 'barren,', 'touched', 'in', 'this', 'holy', 'chase,', 'Shake', 'off', 'their', 'sterile', 'curse.', 'ANTONY.', 'I', 'shall', 'remember.']\n"
          ],
          "name": "stdout"
        }
      ]
    },
    {
      "cell_type": "code",
      "metadata": {
        "id": "CH9wS5uNOFyV",
        "outputId": "c108c029-a677-431e-f000-59619fcd572e",
        "colab": {
          "base_uri": "https://localhost:8080/"
        }
      },
      "source": [
        "import string\n",
        "l = [\"a\", \"b\"]\n",
        "for i in l:\n",
        "  i.upper()\n",
        "print(i)"
      ],
      "execution_count": 69,
      "outputs": [
        {
          "output_type": "stream",
          "text": [
            "b\n"
          ],
          "name": "stdout"
        }
      ]
    },
    {
      "cell_type": "code",
      "metadata": {
        "id": "OzOIRCJqRF8f"
      },
      "source": [
        ""
      ],
      "execution_count": null,
      "outputs": []
    }
  ]
}