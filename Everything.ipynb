{
  "nbformat": 4,
  "nbformat_minor": 0,
  "metadata": {
    "colab": {
      "name": "Everything.ipynb",
      "provenance": [],
      "authorship_tag": "ABX9TyMzP8Vrdl8tqRZm5C+/gwLz",
      "include_colab_link": true
    },
    "kernelspec": {
      "name": "python3",
      "display_name": "Python 3"
    }
  },
  "cells": [
    {
      "cell_type": "markdown",
      "metadata": {
        "id": "view-in-github",
        "colab_type": "text"
      },
      "source": [
        "<a href=\"https://colab.research.google.com/github/setitfree/BasicPython/blob/main/Everything.ipynb\" target=\"_parent\"><img src=\"https://colab.research.google.com/assets/colab-badge.svg\" alt=\"Open In Colab\"/></a>"
      ]
    },
    {
      "cell_type": "code",
      "metadata": {
        "colab": {
          "base_uri": "https://localhost:8080/"
        },
        "id": "4xanGmEooRwe",
        "outputId": "da825530-3e7f-42d3-e718-e54f8542c0b2"
      },
      "source": [
        "range(50)"
      ],
      "execution_count": 19,
      "outputs": [
        {
          "output_type": "execute_result",
          "data": {
            "text/plain": [
              "range(0, 50)"
            ]
          },
          "metadata": {
            "tags": []
          },
          "execution_count": 19
        }
      ]
    },
    {
      "cell_type": "code",
      "metadata": {
        "colab": {
          "base_uri": "https://localhost:8080/"
        },
        "id": "NQ56lV_CoRtI",
        "outputId": "81c753bc-a6f7-4d65-f474-ce61f5096990"
      },
      "source": [
        "list(range(50))"
      ],
      "execution_count": 6,
      "outputs": [
        {
          "output_type": "stream",
          "text": [
            "[0, 1, 2, 3, 4, 5, 6, 7, 8, 9, 10, 11, 12, 13, 14, 15, 16, 17, 18, 19, 20, 21, 22, 23, 24, 25, 26, 27, 28, 29, 30, 31, 32, 33, 34, 35, 36, 37, 38, 39, 40, 41, 42, 43, 44, 45, 46, 47, 48, 49]\n",
            "\n"
          ],
          "name": "stdout"
        }
      ]
    },
    {
      "cell_type": "code",
      "metadata": {
        "colab": {
          "base_uri": "https://localhost:8080/"
        },
        "id": "OmBk_F0BoX1b",
        "outputId": "7fbb926e-a73f-4099-9fab-0a809b34ce31"
      },
      "source": [
        "enumerate(range(50)) ## enumerate a pregnant object"
      ],
      "execution_count": 11,
      "outputs": [
        {
          "output_type": "execute_result",
          "data": {
            "text/plain": [
              "<enumerate at 0x7fda2dcd26c0>"
            ]
          },
          "metadata": {
            "tags": []
          },
          "execution_count": 11
        }
      ]
    },
    {
      "cell_type": "code",
      "metadata": {
        "colab": {
          "base_uri": "https://localhost:8080/",
          "height": 162
        },
        "id": "liSJXJqpoXxu",
        "outputId": "fd8f87ec-522d-4900-8d04-a1c4babacaca"
      },
      "source": [
        "list(enumerate(50))"
      ],
      "execution_count": 12,
      "outputs": [
        {
          "output_type": "error",
          "ename": "TypeError",
          "evalue": "ignored",
          "traceback": [
            "\u001b[0;31m---------------------------------------------------------------------------\u001b[0m",
            "\u001b[0;31mTypeError\u001b[0m                                 Traceback (most recent call last)",
            "\u001b[0;32m<ipython-input-12-1b95e353b06b>\u001b[0m in \u001b[0;36m<module>\u001b[0;34m()\u001b[0m\n\u001b[0;32m----> 1\u001b[0;31m \u001b[0mlist\u001b[0m\u001b[0;34m(\u001b[0m\u001b[0menumerate\u001b[0m\u001b[0;34m(\u001b[0m\u001b[0;36m50\u001b[0m\u001b[0;34m)\u001b[0m\u001b[0;34m)\u001b[0m\u001b[0;34m\u001b[0m\u001b[0;34m\u001b[0m\u001b[0m\n\u001b[0m",
            "\u001b[0;31mTypeError\u001b[0m: 'int' object is not iterable"
          ]
        }
      ]
    },
    {
      "cell_type": "code",
      "metadata": {
        "colab": {
          "base_uri": "https://localhost:8080/"
        },
        "id": "XDPGKKZHkymu",
        "outputId": "8e9b1ecc-830d-41f2-dfa4-9ebdb73ecb8a"
      },
      "source": [
        "#enumerate behaves just like range, like a pregnant pbject\n",
        "\n",
        "import string\n",
        "list(enumerate(string.ascii_lowercase))\n"
      ],
      "execution_count": 7,
      "outputs": [
        {
          "output_type": "execute_result",
          "data": {
            "text/plain": [
              "[(0, 'a'),\n",
              " (1, 'b'),\n",
              " (2, 'c'),\n",
              " (3, 'd'),\n",
              " (4, 'e'),\n",
              " (5, 'f'),\n",
              " (6, 'g'),\n",
              " (7, 'h'),\n",
              " (8, 'i'),\n",
              " (9, 'j'),\n",
              " (10, 'k'),\n",
              " (11, 'l'),\n",
              " (12, 'm'),\n",
              " (13, 'n'),\n",
              " (14, 'o'),\n",
              " (15, 'p'),\n",
              " (16, 'q'),\n",
              " (17, 'r'),\n",
              " (18, 's'),\n",
              " (19, 't'),\n",
              " (20, 'u'),\n",
              " (21, 'v'),\n",
              " (22, 'w'),\n",
              " (23, 'x'),\n",
              " (24, 'y'),\n",
              " (25, 'z')]"
            ]
          },
          "metadata": {
            "tags": []
          },
          "execution_count": 7
        }
      ]
    },
    {
      "cell_type": "code",
      "metadata": {
        "colab": {
          "base_uri": "https://localhost:8080/"
        },
        "id": "OuGK9YRQkykG",
        "outputId": "904b2990-a996-422f-8025-3eeeece1f12b"
      },
      "source": [
        "## same as above using zip function\n",
        "\n",
        "import string\n",
        "def my_enumerate(mylist):\n",
        "  l = len(mylist)\n",
        "  return zip(range(l), mylist)\n",
        "   \n",
        "list(my_enumerate(string.ascii_lowercase))"
      ],
      "execution_count": 12,
      "outputs": [
        {
          "output_type": "execute_result",
          "data": {
            "text/plain": [
              "[(0, 'a'),\n",
              " (1, 'b'),\n",
              " (2, 'c'),\n",
              " (3, 'd'),\n",
              " (4, 'e'),\n",
              " (5, 'f'),\n",
              " (6, 'g'),\n",
              " (7, 'h'),\n",
              " (8, 'i'),\n",
              " (9, 'j'),\n",
              " (10, 'k'),\n",
              " (11, 'l'),\n",
              " (12, 'm'),\n",
              " (13, 'n'),\n",
              " (14, 'o'),\n",
              " (15, 'p'),\n",
              " (16, 'q'),\n",
              " (17, 'r'),\n",
              " (18, 's'),\n",
              " (19, 't'),\n",
              " (20, 'u'),\n",
              " (21, 'v'),\n",
              " (22, 'w'),\n",
              " (23, 'x'),\n",
              " (24, 'y'),\n",
              " (25, 'z')]"
            ]
          },
          "metadata": {
            "tags": []
          },
          "execution_count": 12
        }
      ]
    },
    {
      "cell_type": "code",
      "metadata": {
        "id": "5Ni4oSgZmCdd"
      },
      "source": [
        ""
      ],
      "execution_count": null,
      "outputs": []
    },
    {
      "cell_type": "code",
      "metadata": {
        "colab": {
          "base_uri": "https://localhost:8080/"
        },
        "id": "k0bSM9fimCZT",
        "outputId": "c44cbb5f-4f4e-4cda-acc7-7cf8e32ed148"
      },
      "source": [
        "## same as above\n",
        "\n",
        "list1 = []\n",
        "a = ord('a')\n",
        "b = ord('z')\n",
        "for c in range(a, b+1):\n",
        "  list1.append(chr(c))\n",
        "list2 = [i for i in range(0,25)]\n",
        "\n",
        "for i, j in zip(list1, list2):\n",
        "  print(i, j)"
      ],
      "execution_count": 32,
      "outputs": [
        {
          "output_type": "stream",
          "text": [
            "a 0\n",
            "b 1\n",
            "c 2\n",
            "d 3\n",
            "e 4\n",
            "f 5\n",
            "g 6\n",
            "h 7\n",
            "i 8\n",
            "j 9\n",
            "k 10\n",
            "l 11\n",
            "m 12\n",
            "n 13\n",
            "o 14\n",
            "p 15\n",
            "q 16\n",
            "r 17\n",
            "s 18\n",
            "t 19\n",
            "u 20\n",
            "v 21\n",
            "w 22\n",
            "x 23\n",
            "y 24\n"
          ],
          "name": "stdout"
        }
      ]
    },
    {
      "cell_type": "code",
      "metadata": {
        "id": "XGDzGBN0mCVh"
      },
      "source": [
        ""
      ],
      "execution_count": null,
      "outputs": []
    },
    {
      "cell_type": "code",
      "metadata": {
        "colab": {
          "base_uri": "https://localhost:8080/"
        },
        "id": "krgMlDXmkyeS",
        "outputId": "63d95904-861f-499f-c392-b001b74629a3"
      },
      "source": [
        "## to get the number of lower , upper, figits, punctuation.\n",
        "\n",
        "import string\n",
        "my_string = \"HelloWorld,123,ThisIsUniv.Ai\"\n",
        "def counter(allowed, inpstr):\n",
        "  count = 0\n",
        "  for c in inpstr:\n",
        "    if c in allowed:\n",
        "      count+=1\n",
        "  return count\n",
        "counter(string.ascii_lowercase, my_string), counter(string.ascii_uppercase, my_string), counter(string.digits, my_string),counter(string.punctuation, my_string)"
      ],
      "execution_count": 26,
      "outputs": [
        {
          "output_type": "execute_result",
          "data": {
            "text/plain": [
              "(16, 6, 3, 3)"
            ]
          },
          "metadata": {
            "tags": []
          },
          "execution_count": 26
        }
      ]
    },
    {
      "cell_type": "code",
      "metadata": {
        "colab": {
          "base_uri": "https://localhost:8080/"
        },
        "id": "DIrUl2djkybK",
        "outputId": "fb919267-92b3-454a-f239-5b21e5552a54"
      },
      "source": [
        "!wget https://raw.githubusercontent.com/setitfree/BasicPython/main/data/Julius%20Caesar.txt"
      ],
      "execution_count": 33,
      "outputs": [
        {
          "output_type": "stream",
          "text": [
            "--2021-01-09 14:57:19--  https://raw.githubusercontent.com/setitfree/BasicPython/main/data/Julius%20Caesar.txt\n",
            "Resolving raw.githubusercontent.com (raw.githubusercontent.com)... 151.101.0.133, 151.101.64.133, 151.101.128.133, ...\n",
            "Connecting to raw.githubusercontent.com (raw.githubusercontent.com)|151.101.0.133|:443... connected.\n",
            "HTTP request sent, awaiting response... 200 OK\n",
            "Length: 120873 (118K) [text/plain]\n",
            "Saving to: ‘Julius Caesar.txt’\n",
            "\n",
            "Julius Caesar.txt   100%[===================>] 118.04K  --.-KB/s    in 0.03s   \n",
            "\n",
            "2021-01-09 14:57:20 (3.59 MB/s) - ‘Julius Caesar.txt’ saved [120873/120873]\n",
            "\n"
          ],
          "name": "stdout"
        }
      ]
    },
    {
      "cell_type": "code",
      "metadata": {
        "colab": {
          "base_uri": "https://localhost:8080/"
        },
        "id": "7HQm7hOkkt9z",
        "outputId": "2c85cf81-2b19-4aab-a551-d4289ce3eee7"
      },
      "source": [
        "## open the file , reads the file, add it to word list and peint upto 1000 words \n",
        "\n",
        "wordlist =[]\n",
        "fd = open('Julius Caesar.txt')\n",
        "for line in fd:  ## reaf the file ## could have also used fd.readlines() ## both can't be used together\n",
        "  strips = line.strip()\n",
        "  cleaned = strips.split()\n",
        "  wordlist +=cleaned\n",
        "print(wordlist[:1000])\n"
      ],
      "execution_count": 40,
      "outputs": [
        {
          "output_type": "stream",
          "text": [
            "['THE', 'TRAGEDY', 'OF', 'JULIUS', 'CAESAR', 'by', 'William', 'Shakespeare', 'Contents', 'ACT', 'I', 'Scene', 'I.', 'Rome.', 'A', 'street.', 'Scene', 'II.', 'The', 'same.', 'A', 'public', 'place.', 'Scene', 'III.', 'The', 'same.', 'A', 'street.', 'ACT', 'II', 'Scene', 'I.', 'Rome.', 'Brutusâ€™', 'orchard.', 'Scene', 'II.', 'A', 'room', 'in', 'Caesarâ€™s', 'palace.', 'Scene', 'III.', 'A', 'street', 'near', 'the', 'Capitol.', 'Scene', 'IV.', 'Another', 'part', 'of', 'the', 'same', 'street,', 'before', 'the', 'house', 'of', 'Brutus.', 'ACT', 'III', 'Scene', 'I.', 'Rome.', 'Before', 'the', 'Capitol;', 'the', 'Senate', 'sitting.', 'Scene', 'II.', 'The', 'same.', 'The', 'Forum.', 'Scene', 'III.', 'The', 'same.', 'A', 'street.', 'ACT', 'IV', 'Scene', 'I.', 'A', 'room', 'in', 'Antonyâ€™s', 'house.', 'Scene', 'II.', 'Before', 'Brutusâ€™', 'tent,', 'in', 'the', 'camp', 'near', 'Sardis.', 'Scene', 'III.', 'Within', 'the', 'tent', 'of', 'Brutus.', 'ACT', 'V', 'Scene', 'I.', 'The', 'plains', 'of', 'Philippi.', 'Scene', 'II.', 'The', 'same.', 'The', 'field', 'of', 'battle.', 'Scene', 'III.', 'Another', 'part', 'of', 'the', 'field.', 'Scene', 'IV.', 'Another', 'part', 'of', 'the', 'field.', 'Scene', 'V.', 'Another', 'part', 'of', 'the', 'field.', 'Dramatis', 'PersonÃ¦', 'JULIUS', 'CAESAR', 'OCTAVIUS', 'CAESAR,', 'Triumvir', 'after', 'his', 'death.', 'MARCUS', 'ANTONIUS,', 'â€\\x9d', 'â€\\x9d', 'â€\\x9d', 'M.', 'AEMILIUS', 'LEPIDUS,', 'â€\\x9d', 'â€\\x9d', 'â€\\x9d', 'CICERO,', 'PUBLIUS,', 'POPILIUS', 'LENA,', 'Senators.', 'MARCUS', 'BRUTUS,', 'Conspirator', 'against', 'Caesar.', 'CASSIUS,', 'â€\\x9d', 'â€\\x9d', 'â€\\x9d', 'CASCA,', 'â€\\x9d', 'â€\\x9d', 'â€\\x9d', 'TREBONIUS,', 'â€\\x9d', 'â€\\x9d', 'â€\\x9d', 'LIGARIUS,â€\\x9d', 'â€\\x9d', 'â€\\x9d', 'DECIUS', 'BRUTUS,', 'â€\\x9d', 'â€\\x9d', 'â€\\x9d', 'METELLUS', 'CIMBER,', 'â€\\x9d', 'â€\\x9d', 'â€\\x9d', 'CINNA,', 'â€\\x9d', 'â€\\x9d', 'â€\\x9d', 'FLAVIUS,', 'tribune', 'MARULLUS,', 'tribune', 'ARTEMIDORUS,', 'a', 'Sophist', 'of', 'Cnidos.', 'A', 'Soothsayer', 'CINNA,', 'a', 'poet.', 'Another', 'Poet.', 'LUCILIUS,', 'TITINIUS,', 'MESSALA,', 'young', 'CATO,', 'and', 'VOLUMNIUS,', 'Friends', 'to', 'Brutus', 'and', 'Cassius.', 'VARRO,', 'CLITUS,', 'CLAUDIUS,', 'STRATO,', 'LUCIUS,', 'DARDANIUS,', 'Servants', 'to', 'Brutus', 'PINDARUS,', 'Servant', 'to', 'Cassius', 'CALPHURNIA,', 'wife', 'to', 'Caesar', 'PORTIA,', 'wife', 'to', 'Brutus', 'The', 'Ghost', 'of', 'Caesar', 'Senators,', 'Citizens,', 'Soldiers,', 'Commoners,', 'Messengers,', 'and', 'Servants.', 'SCENE:', 'Rome,', 'the', 'conspiratorsâ€™', 'camp', 'near', 'Sardis,', 'and', 'the', 'plains', 'of', 'Philippi.', 'ACT', 'I', 'SCENE', 'I.', 'Rome.', 'A', 'street.', 'Enter', 'Flavius,', 'Marullus', 'and', 'a', 'throng', 'of', 'Citizens.', 'FLAVIUS.', 'Hence!', 'home,', 'you', 'idle', 'creatures,', 'get', 'you', 'home.', 'Is', 'this', 'a', 'holiday?', 'What,', 'know', 'you', 'not,', 'Being', 'mechanical,', 'you', 'ought', 'not', 'walk', 'Upon', 'a', 'labouring', 'day', 'without', 'the', 'sign', 'Of', 'your', 'profession?', 'Speak,', 'what', 'trade', 'art', 'thou?', 'CARPENTER.', 'Why,', 'sir,', 'a', 'carpenter.', 'MARULLUS.', 'Where', 'is', 'thy', 'leather', 'apron', 'and', 'thy', 'rule?', 'What', 'dost', 'thou', 'with', 'thy', 'best', 'apparel', 'on?', 'You,', 'sir,', 'what', 'trade', 'are', 'you?', 'COBBLER.', 'Truly,', 'sir,', 'in', 'respect', 'of', 'a', 'fine', 'workman,', 'I', 'am', 'but,', 'as', 'you', 'would', 'say,', 'a', 'cobbler.', 'MARULLUS.', 'But', 'what', 'trade', 'art', 'thou?', 'Answer', 'me', 'directly.', 'COBBLER.', 'A', 'trade,', 'sir,', 'that', 'I', 'hope', 'I', 'may', 'use', 'with', 'a', 'safe', 'conscience,', 'which', 'is', 'indeed,', 'sir,', 'a', 'mender', 'of', 'bad', 'soles.', 'MARULLUS.', 'What', 'trade,', 'thou', 'knave?', 'Thou', 'naughty', 'knave,', 'what', 'trade?', 'COBBLER.', 'Nay,', 'I', 'beseech', 'you,', 'sir,', 'be', 'not', 'out', 'with', 'me;', 'yet,', 'if', 'you', 'be', 'out,', 'sir,', 'I', 'can', 'mend', 'you.', 'MARULLUS.', 'What', 'meanâ€™st', 'thou', 'by', 'that?', 'Mend', 'me,', 'thou', 'saucy', 'fellow!', 'COBBLER.', 'Why,', 'sir,', 'cobble', 'you.', 'FLAVIUS.', 'Thou', 'art', 'a', 'cobbler,', 'art', 'thou?', 'COBBLER.', 'Truly,', 'sir,', 'all', 'that', 'I', 'live', 'by', 'is', 'with', 'the', 'awl;', 'I', 'meddle', 'with', 'no', 'tradesmanâ€™s', 'matters,', 'nor', 'womenâ€™s', 'matters,', 'but', 'withal', 'I', 'am', 'indeed,', 'sir,', 'a', 'surgeon', 'to', 'old', 'shoes:', 'when', 'they', 'are', 'in', 'great', 'danger,', 'I', 'recover', 'them.', 'As', 'proper', 'men', 'as', 'ever', 'trod', 'upon', 'neatâ€™s', 'leather', 'have', 'gone', 'upon', 'my', 'handiwork.', 'FLAVIUS.', 'But', 'wherefore', 'art', 'not', 'in', 'thy', 'shop', 'today?', 'Why', 'dost', 'thou', 'lead', 'these', 'men', 'about', 'the', 'streets?', 'COBBLER.', 'Truly,', 'sir,', 'to', 'wear', 'out', 'their', 'shoes,', 'to', 'get', 'myself', 'into', 'more', 'work.', 'But', 'indeed,', 'sir,', 'we', 'make', 'holiday', 'to', 'see', 'Caesar,', 'and', 'to', 'rejoice', 'in', 'his', 'triumph.', 'MARULLUS.', 'Wherefore', 'rejoice?', 'What', 'conquest', 'brings', 'he', 'home?', 'What', 'tributaries', 'follow', 'him', 'to', 'Rome,', 'To', 'grace', 'in', 'captive', 'bonds', 'his', 'chariot', 'wheels?', 'You', 'blocks,', 'you', 'stones,', 'you', 'worse', 'than', 'senseless', 'things!', 'O', 'you', 'hard', 'hearts,', 'you', 'cruel', 'men', 'of', 'Rome,', 'Knew', 'you', 'not', 'Pompey?', 'Many', 'a', 'time', 'and', 'oft', 'Have', 'you', 'climbâ€™d', 'up', 'to', 'walls', 'and', 'battlements,', 'To', 'towers', 'and', 'windows,', 'yea,', 'to', 'chimney', 'tops,', 'Your', 'infants', 'in', 'your', 'arms,', 'and', 'there', 'have', 'sat', 'The', 'livelong', 'day', 'with', 'patient', 'expectation,', 'To', 'see', 'great', 'Pompey', 'pass', 'the', 'streets', 'of', 'Rome.', 'And', 'when', 'you', 'saw', 'his', 'chariot', 'but', 'appear,', 'Have', 'you', 'not', 'made', 'an', 'universal', 'shout,', 'That', 'Tiber', 'trembled', 'underneath', 'her', 'banks', 'To', 'hear', 'the', 'replication', 'of', 'your', 'sounds', 'Made', 'in', 'her', 'concave', 'shores?', 'And', 'do', 'you', 'now', 'put', 'on', 'your', 'best', 'attire?', 'And', 'do', 'you', 'now', 'cull', 'out', 'a', 'holiday?', 'And', 'do', 'you', 'now', 'strew', 'flowers', 'in', 'his', 'way,', 'That', 'comes', 'in', 'triumph', 'over', 'Pompeyâ€™s', 'blood?', 'Be', 'gone!', 'Run', 'to', 'your', 'houses,', 'fall', 'upon', 'your', 'knees,', 'Pray', 'to', 'the', 'gods', 'to', 'intermit', 'the', 'plague', 'That', 'needs', 'must', 'light', 'on', 'this', 'ingratitude.', 'FLAVIUS.', 'Go,', 'go,', 'good', 'countrymen,', 'and,', 'for', 'this', 'fault', 'Assemble', 'all', 'the', 'poor', 'men', 'of', 'your', 'sort,', 'Draw', 'them', 'to', 'Tiber', 'banks,', 'and', 'weep', 'your', 'tears', 'Into', 'the', 'channel,', 'till', 'the', 'lowest', 'stream', 'Do', 'kiss', 'the', 'most', 'exalted', 'shores', 'of', 'all.', '[_Exeunt', 'Citizens._]', 'See', 'whether', 'their', 'basest', 'metal', 'be', 'not', 'movâ€™d;', 'They', 'vanish', 'tongue-tied', 'in', 'their', 'guiltiness.', 'Go', 'you', 'down', 'that', 'way', 'towards', 'the', 'Capitol;', 'This', 'way', 'will', 'I.', 'Disrobe', 'the', 'images,', 'If', 'you', 'do', 'find', 'them', 'deckâ€™d', 'with', 'ceremonies.', 'MARULLUS.', 'May', 'we', 'do', 'so?', 'You', 'know', 'it', 'is', 'the', 'feast', 'of', 'Lupercal.', 'FLAVIUS.', 'It', 'is', 'no', 'matter;', 'let', 'no', 'images', 'Be', 'hung', 'with', 'Caesarâ€™s', 'trophies.', 'Iâ€™ll', 'about', 'And', 'drive', 'away', 'the', 'vulgar', 'from', 'the', 'streets;', 'So', 'do', 'you', 'too,', 'where', 'you', 'perceive', 'them', 'thick.', 'These', 'growing', 'feathers', 'pluckâ€™d', 'from', 'Caesarâ€™s', 'wing', 'Will', 'make', 'him', 'fly', 'an', 'ordinary', 'pitch,', 'Who', 'else', 'would', 'soar', 'above', 'the', 'view', 'of', 'men,', 'And', 'keep', 'us', 'all', 'in', 'servile', 'fearfulness.', '[_Exeunt._]', 'SCENE', 'II.', 'The', 'same.', 'A', 'public', 'place.', 'Enter,', 'in', 'procession,', 'with', 'music,', 'Caesar;', 'Antony,', 'for', 'the', 'course;', 'Calphurnia,', 'Portia,', 'Decius,', 'Cicero,', 'Brutus,', 'Cassius', 'and', 'Casca;', 'a', 'great', 'crowd', 'following,', 'among', 'them', 'a', 'Soothsayer.', 'CAESAR.', 'Calphurnia.', 'CASCA.', 'Peace,', 'ho!', 'Caesar', 'speaks.', '[_Music', 'ceases._]', 'CAESAR.', 'Calphurnia.', 'CALPHURNIA.', 'Here,', 'my', 'lord.', 'CAESAR.', 'Stand', 'you', 'directly', 'in', 'Antoniusâ€™', 'way,', 'When', 'he', 'doth', 'run', 'his', 'course.', 'Antonius.', 'ANTONY.', 'Caesar,', 'my', 'lord?', 'CAESAR.', 'Forget', 'not', 'in', 'your', 'speed,', 'Antonius,', 'To', 'touch', 'Calphurnia;', 'for', 'our', 'elders', 'say,', 'The', 'barren,', 'touched', 'in', 'this', 'holy', 'chase,', 'Shake', 'off', 'their', 'sterile', 'curse.', 'ANTONY.', 'I', 'shall', 'remember.']\n"
          ],
          "name": "stdout"
        }
      ]
    },
    {
      "cell_type": "code",
      "metadata": {
        "id": "9bW2kR4mrKI_"
      },
      "source": [
        ""
      ],
      "execution_count": null,
      "outputs": []
    }
  ]
}